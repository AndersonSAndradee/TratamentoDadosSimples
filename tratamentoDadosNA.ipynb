{
 "cells": [
  {
   "cell_type": "code",
   "execution_count": 54,
   "id": "474221d6-0274-44df-b3ee-0ee562852e8b",
   "metadata": {},
   "outputs": [],
   "source": [
    "import pandas as pd\n",
    "import numpy"
   ]
  },
  {
   "cell_type": "code",
   "execution_count": 4,
   "id": "a0d603c9-95b1-467b-9bb6-484703a4e4ed",
   "metadata": {},
   "outputs": [],
   "source": [
    "dataset = pd.read_csv(\"C:\\\\Users\\\\Anderson Silva\\\\AppData\\\\Local\\\\Programs\\\\Python\\\\Python310\\\\analise-dados\\\\Exercicios\\\\tempo.csv\", sep = \";\")"
   ]
  },
  {
   "cell_type": "markdown",
   "id": "40ff5dcf-c37f-41ec-9b97-e7ac9ff8a009",
   "metadata": {},
   "source": [
    "# Tratamento de Dados NA"
   ]
  },
  {
   "cell_type": "code",
   "execution_count": 24,
   "id": "94c47031-9979-40e4-88a0-5ba1c9b2ad08",
   "metadata": {},
   "outputs": [
    {
     "data": {
      "text/html": [
       "<div>\n",
       "<style scoped>\n",
       "    .dataframe tbody tr th:only-of-type {\n",
       "        vertical-align: middle;\n",
       "    }\n",
       "\n",
       "    .dataframe tbody tr th {\n",
       "        vertical-align: top;\n",
       "    }\n",
       "\n",
       "    .dataframe thead th {\n",
       "        text-align: right;\n",
       "    }\n",
       "</style>\n",
       "<table border=\"1\" class=\"dataframe\">\n",
       "  <thead>\n",
       "    <tr style=\"text-align: right;\">\n",
       "      <th></th>\n",
       "      <th>Aparencia</th>\n",
       "      <th>Temperatura</th>\n",
       "      <th>Umidade</th>\n",
       "      <th>Vento</th>\n",
       "      <th>Jogar</th>\n",
       "    </tr>\n",
       "  </thead>\n",
       "  <tbody>\n",
       "    <tr>\n",
       "      <th>0</th>\n",
       "      <td>sol</td>\n",
       "      <td>85.0</td>\n",
       "      <td>85.0</td>\n",
       "      <td>FALSO</td>\n",
       "      <td>nao</td>\n",
       "    </tr>\n",
       "    <tr>\n",
       "      <th>1</th>\n",
       "      <td>sol</td>\n",
       "      <td>80.0</td>\n",
       "      <td>90.0</td>\n",
       "      <td>VERDADEIRO</td>\n",
       "      <td>nao</td>\n",
       "    </tr>\n",
       "    <tr>\n",
       "      <th>2</th>\n",
       "      <td>nublado</td>\n",
       "      <td>83.0</td>\n",
       "      <td>86.0</td>\n",
       "      <td>FALSO</td>\n",
       "      <td>sim</td>\n",
       "    </tr>\n",
       "    <tr>\n",
       "      <th>3</th>\n",
       "      <td>chuva</td>\n",
       "      <td>70.0</td>\n",
       "      <td>85.0</td>\n",
       "      <td>FALSO</td>\n",
       "      <td>sim</td>\n",
       "    </tr>\n",
       "    <tr>\n",
       "      <th>4</th>\n",
       "      <td>chuva</td>\n",
       "      <td>68.0</td>\n",
       "      <td>80.0</td>\n",
       "      <td>FALSO</td>\n",
       "      <td>sim</td>\n",
       "    </tr>\n",
       "    <tr>\n",
       "      <th>5</th>\n",
       "      <td>chuva</td>\n",
       "      <td>65.0</td>\n",
       "      <td>70.0</td>\n",
       "      <td>VERDADEIRO</td>\n",
       "      <td>nao</td>\n",
       "    </tr>\n",
       "    <tr>\n",
       "      <th>6</th>\n",
       "      <td>menos</td>\n",
       "      <td>64.0</td>\n",
       "      <td>65.0</td>\n",
       "      <td>VERDADEIRO</td>\n",
       "      <td>sim</td>\n",
       "    </tr>\n",
       "    <tr>\n",
       "      <th>7</th>\n",
       "      <td>sol</td>\n",
       "      <td>85.0</td>\n",
       "      <td>95.0</td>\n",
       "      <td>FALSO</td>\n",
       "      <td>nao</td>\n",
       "    </tr>\n",
       "    <tr>\n",
       "      <th>8</th>\n",
       "      <td>sol</td>\n",
       "      <td>73.5</td>\n",
       "      <td>70.0</td>\n",
       "      <td>FALSO</td>\n",
       "      <td>sim</td>\n",
       "    </tr>\n",
       "    <tr>\n",
       "      <th>9</th>\n",
       "      <td>chuva</td>\n",
       "      <td>75.0</td>\n",
       "      <td>200.0</td>\n",
       "      <td>Falso</td>\n",
       "      <td>sim</td>\n",
       "    </tr>\n",
       "    <tr>\n",
       "      <th>10</th>\n",
       "      <td>sol</td>\n",
       "      <td>75.0</td>\n",
       "      <td>70.0</td>\n",
       "      <td>VERDADEIRO</td>\n",
       "      <td>sim</td>\n",
       "    </tr>\n",
       "    <tr>\n",
       "      <th>11</th>\n",
       "      <td>nublado</td>\n",
       "      <td>72.0</td>\n",
       "      <td>90.0</td>\n",
       "      <td>VERDADEIRO</td>\n",
       "      <td>sim</td>\n",
       "    </tr>\n",
       "    <tr>\n",
       "      <th>12</th>\n",
       "      <td>nublado</td>\n",
       "      <td>81.0</td>\n",
       "      <td>75.0</td>\n",
       "      <td>FALSO</td>\n",
       "      <td>sim</td>\n",
       "    </tr>\n",
       "    <tr>\n",
       "      <th>13</th>\n",
       "      <td>chuva</td>\n",
       "      <td>71.0</td>\n",
       "      <td>91.0</td>\n",
       "      <td>VERDADEIRO</td>\n",
       "      <td>nao</td>\n",
       "    </tr>\n",
       "  </tbody>\n",
       "</table>\n",
       "</div>"
      ],
      "text/plain": [
       "   Aparencia  Temperatura  Umidade       Vento Jogar\n",
       "0        sol         85.0     85.0       FALSO   nao\n",
       "1        sol         80.0     90.0  VERDADEIRO   nao\n",
       "2    nublado         83.0     86.0       FALSO   sim\n",
       "3      chuva         70.0     85.0       FALSO   sim\n",
       "4      chuva         68.0     80.0       FALSO   sim\n",
       "5      chuva         65.0     70.0  VERDADEIRO   nao\n",
       "6      menos         64.0     65.0  VERDADEIRO   sim\n",
       "7        sol         85.0     95.0       FALSO   nao\n",
       "8        sol         73.5     70.0       FALSO   sim\n",
       "9      chuva         75.0    200.0       Falso   sim\n",
       "10       sol         75.0     70.0  VERDADEIRO   sim\n",
       "11   nublado         72.0     90.0  VERDADEIRO   sim\n",
       "12   nublado         81.0     75.0       FALSO   sim\n",
       "13     chuva         71.0     91.0  VERDADEIRO   nao"
      ]
     },
     "execution_count": 24,
     "metadata": {},
     "output_type": "execute_result"
    }
   ],
   "source": [
    "dataset"
   ]
  },
  {
   "cell_type": "markdown",
   "id": "9a7e8ab4-8fd8-46db-bf9c-bda747bca303",
   "metadata": {},
   "source": [
    "# Correção de válores NA"
   ]
  },
  {
   "cell_type": "code",
   "execution_count": 15,
   "id": "579e89cc-6f3e-4316-9503-454fd76d5c4f",
   "metadata": {},
   "outputs": [
    {
     "data": {
      "text/plain": [
       "Aparencia      0\n",
       "Temperatura    0\n",
       "Umidade        0\n",
       "Vento          0\n",
       "Jogar          0\n",
       "dtype: int64"
      ]
     },
     "execution_count": 15,
     "metadata": {},
     "output_type": "execute_result"
    }
   ],
   "source": [
    "dataset.isnull().sum()\n",
    "#Checagem de valores Nulos"
   ]
  },
  {
   "cell_type": "code",
   "execution_count": 8,
   "id": "03c54f92-439d-45ed-96e0-fcc04fa7e5bb",
   "metadata": {},
   "outputs": [
    {
     "data": {
      "text/plain": [
       "Vento\n",
       "FALSO         7\n",
       "VERDADEIRO    6\n",
       "dtype: int64"
      ]
     },
     "execution_count": 8,
     "metadata": {},
     "output_type": "execute_result"
    }
   ],
   "source": [
    "dataset.groupby(['Vento']).size()\n",
    "#checagem da moda vento"
   ]
  },
  {
   "cell_type": "code",
   "execution_count": 9,
   "id": "423cf94a-ec3e-409b-a1c5-0ddfafcb807d",
   "metadata": {},
   "outputs": [],
   "source": [
    "dataset['Vento'].fillna('Falso', inplace = True)\n",
    "#remoção de NA de vento"
   ]
  },
  {
   "cell_type": "code",
   "execution_count": 13,
   "id": "e2129619-b24d-4a4a-892f-3b72bcb1d865",
   "metadata": {},
   "outputs": [
    {
     "data": {
      "text/plain": [
       "85.0"
      ]
     },
     "execution_count": 13,
     "metadata": {},
     "output_type": "execute_result"
    }
   ],
   "source": [
    "mediana = dataset['Umidade'].median()\n",
    "#retirada da médiana da colúna Umidade para inserção de valores NA\n",
    "mediana"
   ]
  },
  {
   "cell_type": "code",
   "execution_count": 14,
   "id": "8fb54797-49ec-4734-8207-d29bc51fe585",
   "metadata": {},
   "outputs": [],
   "source": [
    "dataset['Umidade'].fillna(mediana, inplace = True)\n",
    "#remoção de NA de Umidade"
   ]
  },
  {
   "cell_type": "code",
   "execution_count": 16,
   "id": "9a8af429-8873-4be3-92e9-c24d9d577511",
   "metadata": {},
   "outputs": [
    {
     "data": {
      "text/plain": [
       "Aparencia      0\n",
       "Temperatura    0\n",
       "Umidade        0\n",
       "Vento          0\n",
       "Jogar          0\n",
       "dtype: int64"
      ]
     },
     "execution_count": 16,
     "metadata": {},
     "output_type": "execute_result"
    }
   ],
   "source": [
    "dataset.isnull().sum()\n",
    "#Checagem de valores Nulos(2 rodada após remoção)"
   ]
  },
  {
   "cell_type": "markdown",
   "id": "9a175482-fc49-40ca-b893-6dfa940d58de",
   "metadata": {},
   "source": [
    "# Checagem de Valores padrão"
   ]
  },
  {
   "cell_type": "code",
   "execution_count": 20,
   "id": "c99182cf-d535-46d1-91d3-de88064b6f81",
   "metadata": {},
   "outputs": [],
   "source": [
    "dataset.loc[ (dataset['Temperatura'] > 130) | (dataset['Temperatura'] < -130 ) ] #checagem de valores temperatura\n",
    "medianaTemperatura = dataset['Temperatura'].median()"
   ]
  },
  {
   "cell_type": "code",
   "execution_count": 23,
   "id": "7ae03f6d-74ae-42b1-a8fa-1732590deb23",
   "metadata": {},
   "outputs": [],
   "source": [
    "dataset.loc[ (dataset['Temperatura'] == 69.0  ) ,'Temperatura' ] = medianaTemperatura\n",
    "#substituição de válores pela médiana"
   ]
  },
  {
   "cell_type": "code",
   "execution_count": 25,
   "id": "04b12d30-6ce2-46d1-a991-fd5c5445f969",
   "metadata": {},
   "outputs": [],
   "source": [
    "dataset.loc[ (dataset['Umidade'] > 100) | (dataset['Umidade'] < 0 ) ]\n",
    "medianaUmidade = dataset['Umidade'].median()\n",
    "#checagem de válores de Umidade"
   ]
  },
  {
   "cell_type": "code",
   "execution_count": 28,
   "id": "adee35bd-01d5-4d4c-b2ed-54de406930dc",
   "metadata": {},
   "outputs": [],
   "source": [
    "dataset.loc[ (dataset['Umidade'] > 100) | (dataset['Umidade'] < 0 ), 'Umidade'] = medianaUmidade\n",
    "#substituição de válores pela médiana da umidade"
   ]
  },
  {
   "cell_type": "code",
   "execution_count": 37,
   "id": "f133e947-64e7-40d2-ba9a-17cf7733def2",
   "metadata": {},
   "outputs": [
    {
     "data": {
      "text/html": [
       "<div>\n",
       "<style scoped>\n",
       "    .dataframe tbody tr th:only-of-type {\n",
       "        vertical-align: middle;\n",
       "    }\n",
       "\n",
       "    .dataframe tbody tr th {\n",
       "        vertical-align: top;\n",
       "    }\n",
       "\n",
       "    .dataframe thead th {\n",
       "        text-align: right;\n",
       "    }\n",
       "</style>\n",
       "<table border=\"1\" class=\"dataframe\">\n",
       "  <thead>\n",
       "    <tr style=\"text-align: right;\">\n",
       "      <th></th>\n",
       "      <th>Aparencia</th>\n",
       "      <th>Temperatura</th>\n",
       "      <th>Umidade</th>\n",
       "      <th>Vento</th>\n",
       "      <th>Jogar</th>\n",
       "    </tr>\n",
       "  </thead>\n",
       "  <tbody>\n",
       "  </tbody>\n",
       "</table>\n",
       "</div>"
      ],
      "text/plain": [
       "Empty DataFrame\n",
       "Columns: [Aparencia, Temperatura, Umidade, Vento, Jogar]\n",
       "Index: []"
      ]
     },
     "execution_count": 37,
     "metadata": {},
     "output_type": "execute_result"
    }
   ],
   "source": [
    "dataset.loc[ (dataset['Jogar'] != 'nao') & (dataset['Jogar'] != 'sim') ]\n",
    "#checagem de sim e não em Jogar ( TUDO CERTO !)"
   ]
  },
  {
   "cell_type": "code",
   "execution_count": 38,
   "id": "8d4d155b-250e-45e7-9429-188618db9f4f",
   "metadata": {},
   "outputs": [
    {
     "data": {
      "text/html": [
       "<div>\n",
       "<style scoped>\n",
       "    .dataframe tbody tr th:only-of-type {\n",
       "        vertical-align: middle;\n",
       "    }\n",
       "\n",
       "    .dataframe tbody tr th {\n",
       "        vertical-align: top;\n",
       "    }\n",
       "\n",
       "    .dataframe thead th {\n",
       "        text-align: right;\n",
       "    }\n",
       "</style>\n",
       "<table border=\"1\" class=\"dataframe\">\n",
       "  <thead>\n",
       "    <tr style=\"text-align: right;\">\n",
       "      <th></th>\n",
       "      <th>Aparencia</th>\n",
       "      <th>Temperatura</th>\n",
       "      <th>Umidade</th>\n",
       "      <th>Vento</th>\n",
       "      <th>Jogar</th>\n",
       "    </tr>\n",
       "  </thead>\n",
       "  <tbody>\n",
       "    <tr>\n",
       "      <th>6</th>\n",
       "      <td>menos</td>\n",
       "      <td>64.0</td>\n",
       "      <td>65.0</td>\n",
       "      <td>VERDADEIRO</td>\n",
       "      <td>sim</td>\n",
       "    </tr>\n",
       "  </tbody>\n",
       "</table>\n",
       "</div>"
      ],
      "text/plain": [
       "  Aparencia  Temperatura  Umidade       Vento Jogar\n",
       "6     menos         64.0     65.0  VERDADEIRO   sim"
      ]
     },
     "execution_count": 38,
     "metadata": {},
     "output_type": "execute_result"
    }
   ],
   "source": [
    "dataset.loc[ (dataset['Aparencia'] != 'nublado') & (dataset['Aparencia'] != 'chuva') & (dataset['Aparencia'] != 'sol') ]"
   ]
  },
  {
   "cell_type": "code",
   "execution_count": 55,
   "id": "cbb62f63-5034-4bfd-8a3e-8437725bcd70",
   "metadata": {},
   "outputs": [
    {
     "data": {
      "text/plain": [
       "Aparencia\n",
       "chuva      6\n",
       "nublado    3\n",
       "sol        5\n",
       "dtype: int64"
      ]
     },
     "execution_count": 55,
     "metadata": {},
     "output_type": "execute_result"
    }
   ],
   "source": [
    "dataset.groupby(['Aparencia']).size()\n",
    "#visualização da moda"
   ]
  },
  {
   "cell_type": "code",
   "execution_count": 56,
   "id": "c2b58d19-0644-46f0-9905-e1ce44a2db27",
   "metadata": {},
   "outputs": [],
   "source": [
    "dataset.loc[dataset['Aparencia'] == 'Chuva', 'Aparencia'] = \"chuva\"\n",
    "#troca pelo valor da moda"
   ]
  },
  {
   "cell_type": "code",
   "execution_count": 48,
   "id": "1aded1cf-bae4-4b51-a017-4e8960476aa0",
   "metadata": {},
   "outputs": [
    {
     "data": {
      "text/html": [
       "<div>\n",
       "<style scoped>\n",
       "    .dataframe tbody tr th:only-of-type {\n",
       "        vertical-align: middle;\n",
       "    }\n",
       "\n",
       "    .dataframe tbody tr th {\n",
       "        vertical-align: top;\n",
       "    }\n",
       "\n",
       "    .dataframe thead th {\n",
       "        text-align: right;\n",
       "    }\n",
       "</style>\n",
       "<table border=\"1\" class=\"dataframe\">\n",
       "  <thead>\n",
       "    <tr style=\"text-align: right;\">\n",
       "      <th></th>\n",
       "      <th>Aparencia</th>\n",
       "      <th>Temperatura</th>\n",
       "      <th>Umidade</th>\n",
       "      <th>Vento</th>\n",
       "      <th>Jogar</th>\n",
       "    </tr>\n",
       "  </thead>\n",
       "  <tbody>\n",
       "    <tr>\n",
       "      <th>9</th>\n",
       "      <td>chuva</td>\n",
       "      <td>75.0</td>\n",
       "      <td>85.0</td>\n",
       "      <td>Falso</td>\n",
       "      <td>sim</td>\n",
       "    </tr>\n",
       "  </tbody>\n",
       "</table>\n",
       "</div>"
      ],
      "text/plain": [
       "  Aparencia  Temperatura  Umidade  Vento Jogar\n",
       "9     chuva         75.0     85.0  Falso   sim"
      ]
     },
     "execution_count": 48,
     "metadata": {},
     "output_type": "execute_result"
    }
   ],
   "source": [
    "dataset.loc[ (dataset['Vento'] != 'FALSO') & (dataset['Vento'] != 'VERDADEIRO') ]"
   ]
  },
  {
   "cell_type": "code",
   "execution_count": 51,
   "id": "15f41e9d-7bd1-4c06-9faa-692130848fa6",
   "metadata": {},
   "outputs": [],
   "source": [
    "dataset.loc[dataset['Vento'] == 'Falso', 'Vento'] = \"FALSO\""
   ]
  },
  {
   "cell_type": "code",
   "execution_count": 52,
   "id": "9d890e2a-f789-4d34-9871-db90e69f3a89",
   "metadata": {},
   "outputs": [
    {
     "data": {
      "text/html": [
       "<div>\n",
       "<style scoped>\n",
       "    .dataframe tbody tr th:only-of-type {\n",
       "        vertical-align: middle;\n",
       "    }\n",
       "\n",
       "    .dataframe tbody tr th {\n",
       "        vertical-align: top;\n",
       "    }\n",
       "\n",
       "    .dataframe thead th {\n",
       "        text-align: right;\n",
       "    }\n",
       "</style>\n",
       "<table border=\"1\" class=\"dataframe\">\n",
       "  <thead>\n",
       "    <tr style=\"text-align: right;\">\n",
       "      <th></th>\n",
       "      <th>Aparencia</th>\n",
       "      <th>Temperatura</th>\n",
       "      <th>Umidade</th>\n",
       "      <th>Vento</th>\n",
       "      <th>Jogar</th>\n",
       "    </tr>\n",
       "  </thead>\n",
       "  <tbody>\n",
       "    <tr>\n",
       "      <th>0</th>\n",
       "      <td>sol</td>\n",
       "      <td>85.0</td>\n",
       "      <td>85.0</td>\n",
       "      <td>FALSO</td>\n",
       "      <td>nao</td>\n",
       "    </tr>\n",
       "    <tr>\n",
       "      <th>1</th>\n",
       "      <td>sol</td>\n",
       "      <td>80.0</td>\n",
       "      <td>90.0</td>\n",
       "      <td>VERDADEIRO</td>\n",
       "      <td>nao</td>\n",
       "    </tr>\n",
       "    <tr>\n",
       "      <th>2</th>\n",
       "      <td>nublado</td>\n",
       "      <td>83.0</td>\n",
       "      <td>86.0</td>\n",
       "      <td>FALSO</td>\n",
       "      <td>sim</td>\n",
       "    </tr>\n",
       "    <tr>\n",
       "      <th>3</th>\n",
       "      <td>chuva</td>\n",
       "      <td>70.0</td>\n",
       "      <td>85.0</td>\n",
       "      <td>FALSO</td>\n",
       "      <td>sim</td>\n",
       "    </tr>\n",
       "    <tr>\n",
       "      <th>4</th>\n",
       "      <td>chuva</td>\n",
       "      <td>68.0</td>\n",
       "      <td>80.0</td>\n",
       "      <td>FALSO</td>\n",
       "      <td>sim</td>\n",
       "    </tr>\n",
       "    <tr>\n",
       "      <th>5</th>\n",
       "      <td>chuva</td>\n",
       "      <td>65.0</td>\n",
       "      <td>70.0</td>\n",
       "      <td>VERDADEIRO</td>\n",
       "      <td>nao</td>\n",
       "    </tr>\n",
       "    <tr>\n",
       "      <th>6</th>\n",
       "      <td>chuva</td>\n",
       "      <td>64.0</td>\n",
       "      <td>65.0</td>\n",
       "      <td>VERDADEIRO</td>\n",
       "      <td>sim</td>\n",
       "    </tr>\n",
       "    <tr>\n",
       "      <th>7</th>\n",
       "      <td>sol</td>\n",
       "      <td>85.0</td>\n",
       "      <td>95.0</td>\n",
       "      <td>FALSO</td>\n",
       "      <td>nao</td>\n",
       "    </tr>\n",
       "    <tr>\n",
       "      <th>8</th>\n",
       "      <td>sol</td>\n",
       "      <td>73.5</td>\n",
       "      <td>70.0</td>\n",
       "      <td>FALSO</td>\n",
       "      <td>sim</td>\n",
       "    </tr>\n",
       "    <tr>\n",
       "      <th>9</th>\n",
       "      <td>chuva</td>\n",
       "      <td>75.0</td>\n",
       "      <td>85.0</td>\n",
       "      <td>FALSO</td>\n",
       "      <td>sim</td>\n",
       "    </tr>\n",
       "    <tr>\n",
       "      <th>10</th>\n",
       "      <td>sol</td>\n",
       "      <td>75.0</td>\n",
       "      <td>70.0</td>\n",
       "      <td>VERDADEIRO</td>\n",
       "      <td>sim</td>\n",
       "    </tr>\n",
       "    <tr>\n",
       "      <th>11</th>\n",
       "      <td>nublado</td>\n",
       "      <td>72.0</td>\n",
       "      <td>90.0</td>\n",
       "      <td>VERDADEIRO</td>\n",
       "      <td>sim</td>\n",
       "    </tr>\n",
       "    <tr>\n",
       "      <th>12</th>\n",
       "      <td>nublado</td>\n",
       "      <td>81.0</td>\n",
       "      <td>75.0</td>\n",
       "      <td>FALSO</td>\n",
       "      <td>sim</td>\n",
       "    </tr>\n",
       "    <tr>\n",
       "      <th>13</th>\n",
       "      <td>chuva</td>\n",
       "      <td>71.0</td>\n",
       "      <td>91.0</td>\n",
       "      <td>VERDADEIRO</td>\n",
       "      <td>nao</td>\n",
       "    </tr>\n",
       "  </tbody>\n",
       "</table>\n",
       "</div>"
      ],
      "text/plain": [
       "   Aparencia  Temperatura  Umidade       Vento Jogar\n",
       "0        sol         85.0     85.0       FALSO   nao\n",
       "1        sol         80.0     90.0  VERDADEIRO   nao\n",
       "2    nublado         83.0     86.0       FALSO   sim\n",
       "3      chuva         70.0     85.0       FALSO   sim\n",
       "4      chuva         68.0     80.0       FALSO   sim\n",
       "5      chuva         65.0     70.0  VERDADEIRO   nao\n",
       "6      chuva         64.0     65.0  VERDADEIRO   sim\n",
       "7        sol         85.0     95.0       FALSO   nao\n",
       "8        sol         73.5     70.0       FALSO   sim\n",
       "9      chuva         75.0     85.0       FALSO   sim\n",
       "10       sol         75.0     70.0  VERDADEIRO   sim\n",
       "11   nublado         72.0     90.0  VERDADEIRO   sim\n",
       "12   nublado         81.0     75.0       FALSO   sim\n",
       "13     chuva         71.0     91.0  VERDADEIRO   nao"
      ]
     },
     "execution_count": 52,
     "metadata": {},
     "output_type": "execute_result"
    }
   ],
   "source": [
    "dataset"
   ]
  },
  {
   "cell_type": "markdown",
   "id": "0f3209c1-c062-44d0-a48f-53134ba27ab6",
   "metadata": {},
   "source": [
    "# FIM!"
   ]
  }
 ],
 "metadata": {
  "kernelspec": {
   "display_name": "Python 3 (ipykernel)",
   "language": "python",
   "name": "python3"
  },
  "language_info": {
   "codemirror_mode": {
    "name": "ipython",
    "version": 3
   },
   "file_extension": ".py",
   "mimetype": "text/x-python",
   "name": "python",
   "nbconvert_exporter": "python",
   "pygments_lexer": "ipython3",
   "version": "3.10.11"
  }
 },
 "nbformat": 4,
 "nbformat_minor": 5
}
